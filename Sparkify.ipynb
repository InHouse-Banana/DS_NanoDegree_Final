{
 "cells": [
  {
   "cell_type": "markdown",
   "metadata": {},
   "source": [
    "# Sparkify Project Workspace\n",
    "This workspace contains a tiny subset (128MB) of the full dataset available (12GB). Feel free to use this workspace to build your project, or to explore a smaller subset with Spark before deploying your cluster on the cloud. Instructions for setting up your Spark cluster is included in the last lesson of the Extracurricular Spark Course content.\n",
    "\n",
    "You can follow the steps below to guide your data analysis and model building portion of this project."
   ]
  },
  {
   "cell_type": "code",
   "execution_count": 1,
   "metadata": {},
   "outputs": [
    {
     "data": {
      "text/html": [
       "<style>.container { width:80% !important; }</style>"
      ],
      "text/plain": [
       "<IPython.core.display.HTML object>"
      ]
     },
     "metadata": {},
     "output_type": "display_data"
    }
   ],
   "source": [
    "from IPython.core.display import display, HTML\n",
    "display(HTML(\"<style>.container { width:80% !important; }</style>\"))"
   ]
  },
  {
   "cell_type": "code",
   "execution_count": 2,
   "metadata": {},
   "outputs": [],
   "source": [
    "# import libraries\n",
    "from pyspark.sql import SparkSession, Window\n",
    "from pyspark.sql.functions import udf, isnan, col, max, lit\n",
    "from pyspark.sql.types import IntegerType\n",
    "\n",
    "import re\n",
    "import datetime\n",
    "from time import time\n",
    "import seaborn as sns\n",
    "import matplotlib.pyplot as plt"
   ]
  },
  {
   "cell_type": "code",
   "execution_count": 3,
   "metadata": {},
   "outputs": [],
   "source": [
    "from pyspark.ml import Pipeline\n",
    "from pyspark.ml.classification import LogisticRegression, GBTClassifier, LinearSVC, RandomForestClassifier, MultilayerPerceptronClassifier, DecisionTreeClassifier\n",
    "from pyspark.ml.evaluation import MulticlassClassificationEvaluator\n",
    "from pyspark.ml.feature import StandardScaler, VectorAssembler\n",
    "from pyspark.ml.tuning import CrossValidator, ParamGridBuilder"
   ]
  },
  {
   "cell_type": "code",
   "execution_count": 4,
   "metadata": {},
   "outputs": [],
   "source": [
    "# create a Spark session\n",
    "spark = SparkSession.builder \\\n",
    "    .master(\"local\") \\\n",
    "    .appName(\"Nanodegree\") \\\n",
    "    .getOrCreate()"
   ]
  },
  {
   "cell_type": "markdown",
   "metadata": {},
   "source": [
    "# Load and Clean Dataset\n",
    "In this workspace, the mini-dataset file is `mini_sparkify_event_data.json`. Load and clean the dataset, checking for invalid or missing data - for example, records without userids or sessionids. "
   ]
  },
  {
   "cell_type": "code",
   "execution_count": 5,
   "metadata": {},
   "outputs": [
    {
     "data": {
      "text/plain": [
       "DataFrame[artist: string, auth: string, firstName: string, gender: string, itemInSession: bigint, lastName: string, length: double, level: string, location: string, method: string, page: string, registration: bigint, sessionId: bigint, song: string, status: bigint, ts: bigint, userAgent: string, userId: string]"
      ]
     },
     "execution_count": 5,
     "metadata": {},
     "output_type": "execute_result"
    }
   ],
   "source": [
    "df = spark.read.json('mini_sparkify_event_data.json')\n",
    "df.persist() "
   ]
  },
  {
   "cell_type": "code",
   "execution_count": 6,
   "metadata": {},
   "outputs": [
    {
     "name": "stdout",
     "output_type": "stream",
     "text": [
      "root\n",
      " |-- artist: string (nullable = true)\n",
      " |-- auth: string (nullable = true)\n",
      " |-- firstName: string (nullable = true)\n",
      " |-- gender: string (nullable = true)\n",
      " |-- itemInSession: long (nullable = true)\n",
      " |-- lastName: string (nullable = true)\n",
      " |-- length: double (nullable = true)\n",
      " |-- level: string (nullable = true)\n",
      " |-- location: string (nullable = true)\n",
      " |-- method: string (nullable = true)\n",
      " |-- page: string (nullable = true)\n",
      " |-- registration: long (nullable = true)\n",
      " |-- sessionId: long (nullable = true)\n",
      " |-- song: string (nullable = true)\n",
      " |-- status: long (nullable = true)\n",
      " |-- ts: long (nullable = true)\n",
      " |-- userAgent: string (nullable = true)\n",
      " |-- userId: string (nullable = true)\n",
      "\n"
     ]
    }
   ],
   "source": [
    "df.printSchema()"
   ]
  },
  {
   "cell_type": "markdown",
   "metadata": {},
   "source": [
    "# Exploratory Data Analysis\n",
    "When you're working with the full dataset, perform EDA by loading a small subset of the data and doing basic manipulations within Spark. In this workspace, you are already provided a small subset of data you can explore.\n",
    "\n",
    "### Define Churn\n",
    "\n",
    "Once you've done some preliminary analysis, create a column `Churn` to use as the label for your model. I suggest using the `Cancellation Confirmation` events to define your churn, which happen for both paid and free users. As a bonus task, you can also look into the `Downgrade` events.\n",
    "\n",
    "### Explore Data\n",
    "Once you've defined churn, perform some exploratory data analysis to observe the behavior for users who stayed vs users who churned. You can start by exploring aggregates on these two groups of users, observing how much of a specific action they experienced per a certain time unit or number of songs played."
   ]
  },
  {
   "cell_type": "code",
   "execution_count": 7,
   "metadata": {},
   "outputs": [
    {
     "data": {
      "text/plain": [
       "286500"
      ]
     },
     "execution_count": 7,
     "metadata": {},
     "output_type": "execute_result"
    }
   ],
   "source": [
    "# Check the size of the dataframe\n",
    "df.count()"
   ]
  },
  {
   "cell_type": "code",
   "execution_count": 8,
   "metadata": {},
   "outputs": [
    {
     "name": "stdout",
     "output_type": "stream",
     "text": [
      "+--------------------+---------+---------+------+-------------+--------+---------+-----+--------------------+------+---------------+-------------+---------+--------------------+------+-------------+--------------------+------+\n",
      "|              artist|     auth|firstName|gender|itemInSession|lastName|   length|level|            location|method|           page| registration|sessionId|                song|status|           ts|           userAgent|userId|\n",
      "+--------------------+---------+---------+------+-------------+--------+---------+-----+--------------------+------+---------------+-------------+---------+--------------------+------+-------------+--------------------+------+\n",
      "|      Martha Tilston|Logged In|    Colin|     M|           50| Freeman|277.89016| paid|     Bakersfield, CA|   PUT|       NextSong|1538173362000|       29|           Rockpools|   200|1538352117000|Mozilla/5.0 (Wind...|    30|\n",
      "|    Five Iron Frenzy|Logged In|    Micah|     M|           79|    Long|236.09424| free|Boston-Cambridge-...|   PUT|       NextSong|1538331630000|        8|              Canada|   200|1538352180000|\"Mozilla/5.0 (Win...|     9|\n",
      "|        Adam Lambert|Logged In|    Colin|     M|           51| Freeman| 282.8273| paid|     Bakersfield, CA|   PUT|       NextSong|1538173362000|       29|   Time For Miracles|   200|1538352394000|Mozilla/5.0 (Wind...|    30|\n",
      "|              Enigma|Logged In|    Micah|     M|           80|    Long|262.71302| free|Boston-Cambridge-...|   PUT|       NextSong|1538331630000|        8|Knocking On Forbi...|   200|1538352416000|\"Mozilla/5.0 (Win...|     9|\n",
      "|           Daft Punk|Logged In|    Colin|     M|           52| Freeman|223.60771| paid|     Bakersfield, CA|   PUT|       NextSong|1538173362000|       29|Harder Better Fas...|   200|1538352676000|Mozilla/5.0 (Wind...|    30|\n",
      "|The All-American ...|Logged In|    Micah|     M|           81|    Long|208.29995| free|Boston-Cambridge-...|   PUT|       NextSong|1538331630000|        8|      Don't Leave Me|   200|1538352678000|\"Mozilla/5.0 (Win...|     9|\n",
      "|The Velvet Underg...|Logged In|    Micah|     M|           82|    Long|260.46649| free|Boston-Cambridge-...|   PUT|       NextSong|1538331630000|        8|         Run Run Run|   200|1538352886000|\"Mozilla/5.0 (Win...|     9|\n",
      "|        Starflyer 59|Logged In|    Colin|     M|           53| Freeman|185.44281| paid|     Bakersfield, CA|   PUT|       NextSong|1538173362000|       29|Passengers (Old A...|   200|1538352899000|Mozilla/5.0 (Wind...|    30|\n",
      "|                null|Logged In|    Colin|     M|           54| Freeman|     null| paid|     Bakersfield, CA|   PUT|Add to Playlist|1538173362000|       29|                null|   200|1538352905000|Mozilla/5.0 (Wind...|    30|\n",
      "|            Frumpies|Logged In|    Colin|     M|           55| Freeman|134.47791| paid|     Bakersfield, CA|   PUT|       NextSong|1538173362000|       29|          Fuck Kitty|   200|1538353084000|Mozilla/5.0 (Wind...|    30|\n",
      "+--------------------+---------+---------+------+-------------+--------+---------+-----+--------------------+------+---------------+-------------+---------+--------------------+------+-------------+--------------------+------+\n",
      "only showing top 10 rows\n",
      "\n"
     ]
    }
   ],
   "source": [
    "# Check how the dataframe looks\n",
    "df.show(10)"
   ]
  },
  {
   "cell_type": "code",
   "execution_count": 9,
   "metadata": {},
   "outputs": [
    {
     "data": {
      "text/plain": [
       "8346"
      ]
     },
     "execution_count": 9,
     "metadata": {},
     "output_type": "execute_result"
    }
   ],
   "source": [
    "#alternative it could have been done by using df.filter(\"userId is null\").count() \n",
    "df.filter((df[\"userId\"] == \"\") | df[\"userId\"].isNull() | isnan(df[\"userId\"])).count()"
   ]
  },
  {
   "cell_type": "code",
   "execution_count": 10,
   "metadata": {},
   "outputs": [
    {
     "name": "stdout",
     "output_type": "stream",
     "text": [
      "+------+-----+\n",
      "|userId|count|\n",
      "+------+-----+\n",
      "|    39| 9632|\n",
      "|      | 8346|\n",
      "|    92| 7230|\n",
      "|   140| 6880|\n",
      "|300011| 5732|\n",
      "|   124| 4825|\n",
      "|300021| 4659|\n",
      "|300017| 4428|\n",
      "|    85| 4370|\n",
      "|    42| 4257|\n",
      "|200023| 3769|\n",
      "|     6| 3761|\n",
      "|    29| 3603|\n",
      "|    54| 3437|\n",
      "|   100| 3214|\n",
      "|     9| 3191|\n",
      "|   126| 3102|\n",
      "|300015| 3051|\n",
      "|    91| 3014|\n",
      "|    98| 2891|\n",
      "+------+-----+\n",
      "only showing top 20 rows\n",
      "\n"
     ]
    }
   ],
   "source": [
    "# count the occurrences of user id\n",
    "df.groupBy(\"userId\").count().orderBy(\"count\", ascending=False).show()"
   ]
  },
  {
   "cell_type": "code",
   "execution_count": 11,
   "metadata": {},
   "outputs": [
    {
     "data": {
      "text/plain": [
       "278154"
      ]
     },
     "execution_count": 11,
     "metadata": {},
     "output_type": "execute_result"
    }
   ],
   "source": [
    "# Drop rows without userID\n",
    "df = df.filter(df[\"userId\"] != \"\") # Dropna doesn't work df.dropna(how = \"any\", subset = [\"userId\"]).count()\n",
    "df.count()"
   ]
  },
  {
   "cell_type": "code",
   "execution_count": 12,
   "metadata": {},
   "outputs": [
    {
     "name": "stdout",
     "output_type": "stream",
     "text": [
      "+------+-----+\n",
      "|gender|count|\n",
      "+------+-----+\n",
      "|     F|  104|\n",
      "|     M|  121|\n",
      "+------+-----+\n",
      "\n"
     ]
    }
   ],
   "source": [
    "# Characterisation in term of genders\n",
    "df.dropDuplicates([\"userId\"]).groupBy(\"gender\").count().show()"
   ]
  },
  {
   "cell_type": "code",
   "execution_count": 13,
   "metadata": {},
   "outputs": [
    {
     "name": "stdout",
     "output_type": "stream",
     "text": [
      "+-----+-----+\n",
      "|level|count|\n",
      "+-----+-----+\n",
      "| free|  177|\n",
      "| paid|   48|\n",
      "+-----+-----+\n",
      "\n"
     ]
    }
   ],
   "source": [
    "## Characterisation in term of account level\n",
    "df.dropDuplicates([\"userId\"]).groupBy(\"level\").count().show()"
   ]
  },
  {
   "cell_type": "code",
   "execution_count": 14,
   "metadata": {},
   "outputs": [
    {
     "name": "stdout",
     "output_type": "stream",
     "text": [
      "+--------------------+-----+\n",
      "|              artist|count|\n",
      "+--------------------+-----+\n",
      "|                null|50046|\n",
      "|       Kings Of Leon| 1841|\n",
      "|            Coldplay| 1813|\n",
      "|Florence + The Ma...| 1236|\n",
      "|       Dwight Yoakam| 1135|\n",
      "|            BjÃÂ¶rk| 1133|\n",
      "|      The Black Keys| 1125|\n",
      "|                Muse| 1090|\n",
      "|       Justin Bieber| 1044|\n",
      "|        Jack Johnson| 1007|\n",
      "|              Eminem|  953|\n",
      "|           Radiohead|  884|\n",
      "|     Alliance Ethnik|  876|\n",
      "|               Train|  854|\n",
      "|        Taylor Swift|  840|\n",
      "|         OneRepublic|  828|\n",
      "|         The Killers|  822|\n",
      "|         Linkin Park|  787|\n",
      "|         Evanescence|  781|\n",
      "|            Harmonia|  729|\n",
      "+--------------------+-----+\n",
      "only showing top 20 rows\n",
      "\n"
     ]
    }
   ],
   "source": [
    "# Check for most popular artist. \n",
    "# Though despite that the most popular artist is \"null\", at this stage, it might not matter as a feature\n",
    "df.groupBy(\"artist\").count().orderBy(\"count\", ascending=False).show()"
   ]
  },
  {
   "cell_type": "code",
   "execution_count": 15,
   "metadata": {},
   "outputs": [
    {
     "name": "stdout",
     "output_type": "stream",
     "text": [
      "+--------------------+------+\n",
      "|                page| count|\n",
      "+--------------------+------+\n",
      "|            NextSong|228108|\n",
      "|           Thumbs Up| 12551|\n",
      "|                Home| 10082|\n",
      "|     Add to Playlist|  6526|\n",
      "|          Add Friend|  4277|\n",
      "|         Roll Advert|  3933|\n",
      "|              Logout|  3226|\n",
      "|         Thumbs Down|  2546|\n",
      "|           Downgrade|  2055|\n",
      "|            Settings|  1514|\n",
      "|                Help|  1454|\n",
      "|             Upgrade|   499|\n",
      "|               About|   495|\n",
      "|       Save Settings|   310|\n",
      "|               Error|   252|\n",
      "|      Submit Upgrade|   159|\n",
      "|    Submit Downgrade|    63|\n",
      "|              Cancel|    52|\n",
      "|Cancellation Conf...|    52|\n",
      "+--------------------+------+\n",
      "\n"
     ]
    }
   ],
   "source": [
    "# Most clicked pages\n",
    "df.groupBy(\"page\").count().orderBy(\"count\", ascending=False).show(50)"
   ]
  },
  {
   "cell_type": "markdown",
   "metadata": {},
   "source": [
    "### Since there are not 'nulls' in the 'page' column I can proceed with a bit of confidence regarding using this column as a feature"
   ]
  },
  {
   "cell_type": "code",
   "execution_count": 16,
   "metadata": {},
   "outputs": [
    {
     "name": "stdout",
     "output_type": "stream",
     "text": [
      "+------+-------------+-------------------+\n",
      "|userId|           ts|  registration_time|\n",
      "+------+-------------+-------------------+\n",
      "|    30|1538352117000|2018-09-28 22:22:42|\n",
      "|     9|1538352180000|2018-09-30 18:20:30|\n",
      "|    30|1538352394000|2018-09-28 22:22:42|\n",
      "|     9|1538352416000|2018-09-30 18:20:30|\n",
      "|    30|1538352676000|2018-09-28 22:22:42|\n",
      "|     9|1538352678000|2018-09-30 18:20:30|\n",
      "|     9|1538352886000|2018-09-30 18:20:30|\n",
      "|    30|1538352899000|2018-09-28 22:22:42|\n",
      "|    30|1538352905000|2018-09-28 22:22:42|\n",
      "|    30|1538353084000|2018-09-28 22:22:42|\n",
      "+------+-------------+-------------------+\n",
      "only showing top 10 rows\n",
      "\n"
     ]
    }
   ],
   "source": [
    "# Transform registration time to be human readable\n",
    "get_time = udf(lambda x: datetime.datetime.fromtimestamp(x / 1000.0).strftime(\"%Y-%m-%d %H:%M:%S\"))\n",
    "df = df.withColumn(\"time\", get_time(df.ts))\n",
    "df = df.withColumn('registration_time', get_time('registration'))\n",
    "df.select('userId', 'ts', 'registration_time').show(10)"
   ]
  },
  {
   "cell_type": "markdown",
   "metadata": {},
   "source": [
    "### Churn Definition"
   ]
  },
  {
   "cell_type": "code",
   "execution_count": 17,
   "metadata": {},
   "outputs": [
    {
     "name": "stdout",
     "output_type": "stream",
     "text": [
      "+------+-----+-----------+----------------+----------+\n",
      "|userId|churn|churn_event|downgraded_event|downgraded|\n",
      "+------+-----+-----------+----------------+----------+\n",
      "|100010|false|      false|           false|     false|\n",
      "|100010|false|      false|           false|     false|\n",
      "|100010|false|      false|           false|     false|\n",
      "|100010|false|      false|           false|     false|\n",
      "|100010|false|      false|           false|     false|\n",
      "|100010|false|      false|           false|     false|\n",
      "|100010|false|      false|           false|     false|\n",
      "|100010|false|      false|           false|     false|\n",
      "|100010|false|      false|           false|     false|\n",
      "|100010|false|      false|           false|     false|\n",
      "+------+-----+-----------+----------------+----------+\n",
      "only showing top 10 rows\n",
      "\n"
     ]
    }
   ],
   "source": [
    "# create churn label\n",
    "#churn_event_func = udf(lambda x: 1 if x == 'Cancellation Confirmation' else 0, IntegerType())\n",
    "churn_event_func = udf(lambda x: True if x == 'Cancellation Confirmation' else False)\n",
    "#churn_event_func = udf(lambda x: 1 if x == 'Submit Downgrade' else 0, IntegerType()) # this results in labels of ints 1/0\n",
    "downgrade_event_func = udf(lambda x: True if x == 'Submit Downgrade' else False)\n",
    "\n",
    "# window over which to apply the event\n",
    "windowval = Window.partitionBy('userId')\n",
    "\n",
    "# label user who've ever churned\n",
    "df = df \\\n",
    "    .withColumn('churn_event', churn_event_func('page'))\\\n",
    "    .withColumn('churn', max('churn_event').over(windowval))\n",
    "\n",
    "df = df \\\n",
    "    .withColumn(\"downgraded_event\", downgrade_event_func(\"page\"))\\\n",
    "    .withColumn('downgraded', max('downgraded_event').over(windowval))\n",
    "\n",
    "df.select('userId','churn','churn_event', 'downgraded_event', 'downgraded').show(10)"
   ]
  },
  {
   "cell_type": "code",
   "execution_count": 18,
   "metadata": {},
   "outputs": [
    {
     "name": "stdout",
     "output_type": "stream",
     "text": [
      "+------+-----+-----------+----------------+----------+\n",
      "|userId|churn|churn_event|downgraded_event|downgraded|\n",
      "+------+-----+-----------+----------------+----------+\n",
      "|100010|false|      false|           false|     false|\n",
      "|200002|false|      false|           false|     false|\n",
      "|   125| true|      false|           false|     false|\n",
      "|   124|false|      false|           false|     false|\n",
      "|    51| true|      false|           false|     false|\n",
      "|     7|false|      false|           false|     false|\n",
      "|    15|false|      false|           false|     false|\n",
      "|    54| true|      false|           false|      true|\n",
      "|   155|false|      false|           false|     false|\n",
      "|100014| true|      false|           false|     false|\n",
      "+------+-----+-----------+----------------+----------+\n",
      "only showing top 10 rows\n",
      "\n"
     ]
    }
   ],
   "source": [
    "# Visual inspection on the dataset\n",
    "df.dropDuplicates([\"userId\"]).select('userId','churn','churn_event', 'downgraded_event', 'downgraded').show(10)"
   ]
  },
  {
   "cell_type": "code",
   "execution_count": 19,
   "metadata": {},
   "outputs": [
    {
     "name": "stdout",
     "output_type": "stream",
     "text": [
      "+------+-----+-----------+----------------+----------+\n",
      "|userId|churn|churn_event|downgraded_event|downgraded|\n",
      "+------+-----+-----------+----------------+----------+\n",
      "|   125| true|      false|           false|     false|\n",
      "|   125| true|      false|           false|     false|\n",
      "|   125| true|      false|           false|     false|\n",
      "|   125| true|      false|           false|     false|\n",
      "|   125| true|      false|           false|     false|\n",
      "|   125| true|      false|           false|     false|\n",
      "|   125| true|      false|           false|     false|\n",
      "|   125| true|      false|           false|     false|\n",
      "|   125| true|      false|           false|     false|\n",
      "|   125| true|      false|           false|     false|\n",
      "|   125| true|       true|           false|     false|\n",
      "+------+-----+-----------+----------------+----------+\n",
      "\n"
     ]
    }
   ],
   "source": [
    "# Visual inspection on a single userId\n",
    "df.where(df.userId == '125').select('userId','churn','churn_event', 'downgraded_event', 'downgraded').show()"
   ]
  },
  {
   "cell_type": "code",
   "execution_count": 20,
   "metadata": {},
   "outputs": [
    {
     "name": "stdout",
     "output_type": "stream",
     "text": [
      "+-----+------+-----+\n",
      "|churn|gender|count|\n",
      "+-----+------+-----+\n",
      "|false|     M|   89|\n",
      "|false|     F|   84|\n",
      "| true|     F|   20|\n",
      "| true|     M|   32|\n",
      "+-----+------+-----+\n",
      "\n"
     ]
    }
   ],
   "source": [
    "# Visual inspection on churn by gender\n",
    "df.dropDuplicates([\"churn\", \"userId\"]).groupby([\"churn\", \"gender\"]).count().sort(\"churn\").show()"
   ]
  },
  {
   "cell_type": "code",
   "execution_count": 21,
   "metadata": {},
   "outputs": [
    {
     "data": {
      "image/png": "[encoded data removed]",
      "text/plain": [
       "<matplotlib.figure.Figure at 0x7fd36a28ca90>"
      ]
     },
     "metadata": {
      "needs_background": "light"
     },
     "output_type": "display_data"
    }
   ],
   "source": [
    "df_pd = df.dropDuplicates([\"churn\", \"userId\"]).groupby([\"churn\", \"gender\"]).count().sort(\"churn\").toPandas()\n",
    "ax = sns.barplot(x='churn', y='count', hue='gender', data=df_pd)\n",
    "ax.set_title(\"Churn count in terms of genders\");"
   ]
  },
  {
   "cell_type": "code",
   "execution_count": 22,
   "metadata": {},
   "outputs": [
    {
     "data": {
      "image/png": "[encoded data removed]",
      "text/plain": [
       "<matplotlib.figure.Figure at 0x7fd36a2cf6a0>"
      ]
     },
     "metadata": {
      "needs_background": "light"
     },
     "output_type": "display_data"
    }
   ],
   "source": [
    "# Churn count vs account level\n",
    "df_pd = df.filter(df.page==\"Cancellation Confirmation\").dropDuplicates([\"churn\", \"userId\"]).groupby(\"level\").count().toPandas()\n",
    "ax = sns.barplot(x=\"level\", y=\"count\", data=df_pd)\n",
    "ax.set_title(\"Churn count vs account level\");"
   ]
  },
  {
   "cell_type": "code",
   "execution_count": 23,
   "metadata": {},
   "outputs": [
    {
     "data": {
      "image/png": "[encoded data removed]",
      "text/plain": [
       "<matplotlib.figure.Figure at 0x7fd36a15b470>"
      ]
     },
     "metadata": {
      "needs_background": "light"
     },
     "output_type": "display_data"
    }
   ],
   "source": [
    "# Count of accounts that haven\\'t churned vs account level\n",
    "df_pd = df.filter(df.page != \"Cancellation Confirmation\").dropDuplicates([\"churn\", \"userId\"]).groupby(\"level\").count().toPandas()\n",
    "ax = sns.barplot(x=\"level\", y=\"count\", data=df_pd)\n",
    "ax.set_title(\"Count of accounts that haven\\'t churned vs account level\");"
   ]
  },
  {
   "cell_type": "code",
   "execution_count": 24,
   "metadata": {},
   "outputs": [],
   "source": [
    "# Lifetime of the user in the service\n",
    "lifetime_pd = df \\\n",
    "                .select('userId','registration','ts','churn') \\\n",
    "                .withColumn('lifetime',(df.ts-df.registration)) \\\n",
    "                .groupBy('userId','churn') \\\n",
    "                .agg({'lifetime':'max'}) \\\n",
    "                .withColumnRenamed('max(lifetime)','lifetime') \\\n",
    "                .select('userId', 'churn', (col('lifetime')/1000/3600/24).alias('lifetime')) \\\n",
    "                .toPandas()"
   ]
  },
  {
   "cell_type": "code",
   "execution_count": 25,
   "metadata": {},
   "outputs": [
    {
     "data": {
      "text/html": [
       "<div>\n",
       "<style scoped>\n",
       "    .dataframe tbody tr th:only-of-type {\n",
       "        vertical-align: middle;\n",
       "    }\n",
       "\n",
       "    .dataframe tbody tr th {\n",
       "        vertical-align: top;\n",
       "    }\n",
       "\n",
       "    .dataframe thead th {\n",
       "        text-align: right;\n",
       "    }\n",
       "</style>\n",
       "<table border=\"1\" class=\"dataframe\">\n",
       "  <thead>\n",
       "    <tr style=\"text-align: right;\">\n",
       "      <th></th>\n",
       "      <th>lifetime</th>\n",
       "    </tr>\n",
       "  </thead>\n",
       "  <tbody>\n",
       "    <tr>\n",
       "      <th>count</th>\n",
       "      <td>225.000000</td>\n",
       "    </tr>\n",
       "    <tr>\n",
       "      <th>mean</th>\n",
       "      <td>79.845683</td>\n",
       "    </tr>\n",
       "    <tr>\n",
       "      <th>std</th>\n",
       "      <td>37.661470</td>\n",
       "    </tr>\n",
       "    <tr>\n",
       "      <th>min</th>\n",
       "      <td>0.313727</td>\n",
       "    </tr>\n",
       "    <tr>\n",
       "      <th>25%</th>\n",
       "      <td>59.125856</td>\n",
       "    </tr>\n",
       "    <tr>\n",
       "      <th>50%</th>\n",
       "      <td>73.004525</td>\n",
       "    </tr>\n",
       "    <tr>\n",
       "      <th>75%</th>\n",
       "      <td>100.378391</td>\n",
       "    </tr>\n",
       "    <tr>\n",
       "      <th>max</th>\n",
       "      <td>256.377674</td>\n",
       "    </tr>\n",
       "  </tbody>\n",
       "</table>\n",
       "</div>"
      ],
      "text/plain": [
       "         lifetime\n",
       "count  225.000000\n",
       "mean    79.845683\n",
       "std     37.661470\n",
       "min      0.313727\n",
       "25%     59.125856\n",
       "50%     73.004525\n",
       "75%    100.378391\n",
       "max    256.377674"
      ]
     },
     "execution_count": 25,
     "metadata": {},
     "output_type": "execute_result"
    }
   ],
   "source": [
    "lifetime_pd.describe()"
   ]
  },
  {
   "cell_type": "code",
   "execution_count": 26,
   "metadata": {},
   "outputs": [
    {
     "data": {
      "image/png": "[encoded data removed]",
      "text/plain": [
       "<matplotlib.figure.Figure at 0x7fd36a1912e8>"
      ]
     },
     "metadata": {
      "needs_background": "light"
     },
     "output_type": "display_data"
    }
   ],
   "source": [
    "ax = sns.boxplot(data=lifetime_pd, x='churn', y='lifetime', orient='v')\n",
    "plt.xlabel('Churn')\n",
    "plt.ylabel('Lifetime in the service');"
   ]
  },
  {
   "cell_type": "code",
   "execution_count": 27,
   "metadata": {},
   "outputs": [
    {
     "name": "stdout",
     "output_type": "stream",
     "text": [
      "root\n",
      " |-- artist: string (nullable = true)\n",
      " |-- auth: string (nullable = true)\n",
      " |-- firstName: string (nullable = true)\n",
      " |-- gender: string (nullable = true)\n",
      " |-- itemInSession: long (nullable = true)\n",
      " |-- lastName: string (nullable = true)\n",
      " |-- length: double (nullable = true)\n",
      " |-- level: string (nullable = true)\n",
      " |-- location: string (nullable = true)\n",
      " |-- method: string (nullable = true)\n",
      " |-- page: string (nullable = true)\n",
      " |-- registration: long (nullable = true)\n",
      " |-- sessionId: long (nullable = true)\n",
      " |-- song: string (nullable = true)\n",
      " |-- status: long (nullable = true)\n",
      " |-- ts: long (nullable = true)\n",
      " |-- userAgent: string (nullable = true)\n",
      " |-- userId: string (nullable = true)\n",
      " |-- time: string (nullable = true)\n",
      " |-- registration_time: string (nullable = true)\n",
      " |-- churn_event: string (nullable = true)\n",
      " |-- churn: string (nullable = true)\n",
      " |-- downgraded_event: string (nullable = true)\n",
      " |-- downgraded: string (nullable = true)\n",
      "\n"
     ]
    }
   ],
   "source": [
    "df.printSchema()"
   ]
  },
  {
   "cell_type": "markdown",
   "metadata": {},
   "source": [
    "## Saving Data"
   ]
  },
  {
   "cell_type": "code",
   "execution_count": 28,
   "metadata": {},
   "outputs": [],
   "source": [
    "df_file = \"df_before_feat_eng\""
   ]
  },
  {
   "cell_type": "code",
   "execution_count": 29,
   "metadata": {},
   "outputs": [],
   "source": [
    "df.write.mode('overwrite').save(df_file, format=\"csv\", header=True)"
   ]
  },
  {
   "cell_type": "code",
   "execution_count": 30,
   "metadata": {},
   "outputs": [
    {
     "data": {
      "text/plain": [
       "DataFrame[artist: string, auth: string, firstName: string, gender: string, itemInSession: string, lastName: string, length: string, level: string, location: string, method: string, page: string, registration: string, sessionId: string, song: string, status: string, ts: string, userAgent: string, userId: string, time: string, registration_time: string, churn_event: string, churn: string, downgraded_event: string, downgraded: string]"
      ]
     },
     "execution_count": 30,
     "metadata": {},
     "output_type": "execute_result"
    }
   ],
   "source": [
    "df = spark.read.csv(df_file, header=True)\n",
    "df.persist()"
   ]
  },
  {
   "cell_type": "code",
   "execution_count": 31,
   "metadata": {},
   "outputs": [
    {
     "name": "stdout",
     "output_type": "stream",
     "text": [
      "root\n",
      " |-- artist: string (nullable = true)\n",
      " |-- auth: string (nullable = true)\n",
      " |-- firstName: string (nullable = true)\n",
      " |-- gender: string (nullable = true)\n",
      " |-- itemInSession: string (nullable = true)\n",
      " |-- lastName: string (nullable = true)\n",
      " |-- length: string (nullable = true)\n",
      " |-- level: string (nullable = true)\n",
      " |-- location: string (nullable = true)\n",
      " |-- method: string (nullable = true)\n",
      " |-- page: string (nullable = true)\n",
      " |-- registration: string (nullable = true)\n",
      " |-- sessionId: string (nullable = true)\n",
      " |-- song: string (nullable = true)\n",
      " |-- status: string (nullable = true)\n",
      " |-- ts: string (nullable = true)\n",
      " |-- userAgent: string (nullable = true)\n",
      " |-- userId: string (nullable = true)\n",
      " |-- time: string (nullable = true)\n",
      " |-- registration_time: string (nullable = true)\n",
      " |-- churn_event: string (nullable = true)\n",
      " |-- churn: string (nullable = true)\n",
      " |-- downgraded_event: string (nullable = true)\n",
      " |-- downgraded: string (nullable = true)\n",
      "\n"
     ]
    }
   ],
   "source": [
    "df.printSchema()"
   ]
  },
  {
   "cell_type": "markdown",
   "metadata": {},
   "source": [
    "# Feature Engineering\n",
    "Once you've familiarized yourself with the data, build out the features you find promising to train your model on. To work with the full dataset, you can follow the following steps.\n",
    "- Write a script to extract the necessary features from the smaller subset of data\n",
    "- Ensure that your script is scalable, using the best practices discussed in Lesson 3\n",
    "- Try your script on the full data set, debugging your script if necessary\n",
    "\n",
    "If you are working in the classroom workspace, you can just extract features based on the small subset of data contained here. Be sure to transfer over this work to the larger dataset when you work on your Spark cluster."
   ]
  },
  {
   "cell_type": "markdown",
   "metadata": {},
   "source": [
    "### Read Data"
   ]
  },
  {
   "cell_type": "code",
   "execution_count": 32,
   "metadata": {},
   "outputs": [],
   "source": [
    "df_file = \"df_before_feat_eng\""
   ]
  },
  {
   "cell_type": "code",
   "execution_count": 33,
   "metadata": {},
   "outputs": [
    {
     "data": {
      "text/plain": [
       "DataFrame[artist: string, auth: string, firstName: string, gender: string, itemInSession: string, lastName: string, length: string, level: string, location: string, method: string, page: string, registration: string, sessionId: string, song: string, status: string, ts: string, userAgent: string, userId: string, time: string, registration_time: string, churn_event: string, churn: string, downgraded_event: string, downgraded: string]"
      ]
     },
     "execution_count": 33,
     "metadata": {},
     "output_type": "execute_result"
    }
   ],
   "source": [
    "df = spark.read.csv(df_file, header=True)\n",
    "df.persist()"
   ]
  },
  {
   "cell_type": "code",
   "execution_count": 34,
   "metadata": {},
   "outputs": [
    {
     "name": "stdout",
     "output_type": "stream",
     "text": [
      "root\n",
      " |-- artist: string (nullable = true)\n",
      " |-- auth: string (nullable = true)\n",
      " |-- firstName: string (nullable = true)\n",
      " |-- gender: string (nullable = true)\n",
      " |-- itemInSession: string (nullable = true)\n",
      " |-- lastName: string (nullable = true)\n",
      " |-- length: string (nullable = true)\n",
      " |-- level: string (nullable = true)\n",
      " |-- location: string (nullable = true)\n",
      " |-- method: string (nullable = true)\n",
      " |-- page: string (nullable = true)\n",
      " |-- registration: string (nullable = true)\n",
      " |-- sessionId: string (nullable = true)\n",
      " |-- song: string (nullable = true)\n",
      " |-- status: string (nullable = true)\n",
      " |-- ts: string (nullable = true)\n",
      " |-- userAgent: string (nullable = true)\n",
      " |-- userId: string (nullable = true)\n",
      " |-- time: string (nullable = true)\n",
      " |-- registration_time: string (nullable = true)\n",
      " |-- churn_event: string (nullable = true)\n",
      " |-- churn: string (nullable = true)\n",
      " |-- downgraded_event: string (nullable = true)\n",
      " |-- downgraded: string (nullable = true)\n",
      "\n"
     ]
    }
   ],
   "source": [
    "df.printSchema()"
   ]
  },
  {
   "cell_type": "markdown",
   "metadata": {},
   "source": [
    "### 1. Time since registration"
   ]
  },
  {
   "cell_type": "code",
   "execution_count": 35,
   "metadata": {},
   "outputs": [
    {
     "name": "stdout",
     "output_type": "stream",
     "text": [
      "+-------+------------------+-------------------+\n",
      "|summary|            userId|           lifetime|\n",
      "+-------+------------------+-------------------+\n",
      "|  count|               225|                225|\n",
      "|   mean|65391.013333333336|  79.84568348765428|\n",
      "| stddev|105396.47791907164|  37.66147001861255|\n",
      "|    min|                10|0.31372685185185184|\n",
      "|    max|                99|  256.3776736111111|\n",
      "+-------+------------------+-------------------+\n",
      "\n"
     ]
    }
   ],
   "source": [
    "# 1 Time since registration\n",
    "feat_time_since_reg = df \\\n",
    "                        .select('userId','registration','ts') \\\n",
    "                        .withColumn('lifetime',(df.ts-df.registration)) \\\n",
    "                        .groupBy('userId') \\\n",
    "                        .agg({'lifetime':'max'}) \\\n",
    "                        .withColumnRenamed('max(lifetime)','lifetime') \\\n",
    "                        .select('userId', (col('lifetime')/1000/3600/24).alias('lifetime'))\n",
    "feat_time_since_reg.describe().show()"
   ]
  },
  {
   "cell_type": "markdown",
   "metadata": {},
   "source": [
    "### 2. Total songs listened"
   ]
  },
  {
   "cell_type": "code",
   "execution_count": 36,
   "metadata": {},
   "outputs": [
    {
     "name": "stdout",
     "output_type": "stream",
     "text": [
      "+-------+------------------+-----------------+\n",
      "|summary|            userID|      total_songs|\n",
      "+-------+------------------+-----------------+\n",
      "|  count|               225|              225|\n",
      "|   mean|65391.013333333336|          1236.24|\n",
      "| stddev|105396.47791907164|1329.531716432519|\n",
      "|    min|                10|                6|\n",
      "|    max|                99|             9632|\n",
      "+-------+------------------+-----------------+\n",
      "\n"
     ]
    }
   ],
   "source": [
    "# 2 Total songs listened\n",
    "feat_total_songs = df \\\n",
    "                    .select('userID','song') \\\n",
    "                    .groupBy('userID') \\\n",
    "                    .count() \\\n",
    "                    .withColumnRenamed('count', 'total_songs')\n",
    "feat_total_songs.describe().show()"
   ]
  },
  {
   "cell_type": "markdown",
   "metadata": {},
   "source": [
    "### 3. Number of Thumbs-Up"
   ]
  },
  {
   "cell_type": "code",
   "execution_count": 37,
   "metadata": {},
   "outputs": [
    {
     "name": "stdout",
     "output_type": "stream",
     "text": [
      "+-------+------------------+-----------------+\n",
      "|summary|            userID|     num_thumb_up|\n",
      "+-------+------------------+-----------------+\n",
      "|  count|               220|              220|\n",
      "|   mean| 66420.27727272727|            57.05|\n",
      "| stddev|106196.51156121881|65.67028650524044|\n",
      "|    min|                10|                1|\n",
      "|    max|                99|              437|\n",
      "+-------+------------------+-----------------+\n",
      "\n"
     ]
    }
   ],
   "source": [
    "# Number of Thumbs-Up\n",
    "feat_thumbs_up = df \\\n",
    "                    .select('userID','page') \\\n",
    "                    .where(df.page == 'Thumbs Up') \\\n",
    "                    .groupBy('userID') \\\n",
    "                    .count() \\\n",
    "                    .withColumnRenamed('count', 'num_thumb_up') \n",
    "feat_thumbs_up.describe().show()"
   ]
  },
  {
   "cell_type": "markdown",
   "metadata": {},
   "source": [
    "### 4. Number of Thumbs-Down"
   ]
  },
  {
   "cell_type": "code",
   "execution_count": 38,
   "metadata": {},
   "outputs": [
    {
     "name": "stdout",
     "output_type": "stream",
     "text": [
      "+-------+------------------+------------------+\n",
      "|summary|            userID|    num_thumb_down|\n",
      "+-------+------------------+------------------+\n",
      "|  count|               203|               203|\n",
      "|   mean| 66066.16256157635|12.541871921182265|\n",
      "| stddev|106108.32569893777|13.198108566983787|\n",
      "|    min|                10|                 1|\n",
      "|    max|                99|                75|\n",
      "+-------+------------------+------------------+\n",
      "\n"
     ]
    }
   ],
   "source": [
    "# Number of Thumbs-Down\n",
    "feat_thumbs_down = df \\\n",
    "                    .select('userID','page') \\\n",
    "                    .where(df.page == 'Thumbs Down') \\\n",
    "                    .groupBy('userID') \\\n",
    "                    .count() \\\n",
    "                    .withColumnRenamed('count', 'num_thumb_down')\n",
    "feat_thumbs_down.describe().show()"
   ]
  },
  {
   "cell_type": "markdown",
   "metadata": {},
   "source": [
    "### 5. Number of songs added to playlist"
   ]
  },
  {
   "cell_type": "code",
   "execution_count": 39,
   "metadata": {},
   "outputs": [
    {
     "name": "stdout",
     "output_type": "stream",
     "text": [
      "+-------+------------------+-----------------+\n",
      "|summary|            userID|  add_to_playlist|\n",
      "+-------+------------------+-----------------+\n",
      "|  count|               215|              215|\n",
      "|   mean| 66103.63720930232|30.35348837209302|\n",
      "| stddev|106360.47999565038| 32.8520568555997|\n",
      "|    min|                10|                1|\n",
      "|    max|                99|              240|\n",
      "+-------+------------------+-----------------+\n",
      "\n"
     ]
    }
   ],
   "source": [
    "# Number of songs added to playlist\n",
    "feat_songs_added = df \\\n",
    "                    .select('userID','page') \\\n",
    "                    .where(df.page == 'Add to Playlist') \\\n",
    "                    .groupBy('userID') \\\n",
    "                    .count() \\\n",
    "                    .withColumnRenamed('count', 'add_to_playlist')\n",
    "feat_songs_added.describe().show()"
   ]
  },
  {
   "cell_type": "markdown",
   "metadata": {},
   "source": [
    "### 6. Number of friends added"
   ]
  },
  {
   "cell_type": "code",
   "execution_count": 40,
   "metadata": {},
   "outputs": [
    {
     "name": "stdout",
     "output_type": "stream",
     "text": [
      "+-------+------------------+------------------+\n",
      "|summary|            userID|        add_friend|\n",
      "+-------+------------------+------------------+\n",
      "|  count|               206|               206|\n",
      "|   mean| 66076.91262135922|20.762135922330096|\n",
      "| stddev|106860.60517425007|20.646779074405007|\n",
      "|    min|                10|                 1|\n",
      "|    max|                99|               143|\n",
      "+-------+------------------+------------------+\n",
      "\n"
     ]
    }
   ],
   "source": [
    "# Number of friends added\n",
    "feat_friends = df \\\n",
    "                .select('userID','page') \\\n",
    "                .where(df.page == 'Add Friend') \\\n",
    "                .groupBy('userID') \\\n",
    "                .count() \\\n",
    "                .withColumnRenamed('count', 'add_friend') \n",
    "feat_friends.describe().show()"
   ]
  },
  {
   "cell_type": "markdown",
   "metadata": {},
   "source": [
    "### 7. Average number of songs listened per session"
   ]
  },
  {
   "cell_type": "code",
   "execution_count": 41,
   "metadata": {},
   "outputs": [
    {
     "name": "stdout",
     "output_type": "stream",
     "text": [
      "+-------+------------------+-----------------+\n",
      "|summary|            userId| avg_songs_played|\n",
      "+-------+------------------+-----------------+\n",
      "|  count|               225|              225|\n",
      "|   mean|65391.013333333336|70.78971233958933|\n",
      "| stddev|105396.47791907164| 42.6153697543817|\n",
      "|    min|                10|              3.0|\n",
      "|    max|                99|286.6666666666667|\n",
      "+-------+------------------+-----------------+\n",
      "\n"
     ]
    }
   ],
   "source": [
    "# Average number of songs listened per session\n",
    "feat_number_songs_per_session = df.where('page == \"NextSong\"') \\\n",
    "                                    .groupby(['userId', 'sessionId']) \\\n",
    "                                    .count() \\\n",
    "                                    .groupby(['userId']) \\\n",
    "                                    .agg({'count':'avg'}) \\\n",
    "                                    .withColumnRenamed('avg(count)', 'avg_songs_played')\n",
    "feat_number_songs_per_session.describe().show()"
   ]
  },
  {
   "cell_type": "markdown",
   "metadata": {},
   "source": [
    "### 8. Gender"
   ]
  },
  {
   "cell_type": "code",
   "execution_count": 42,
   "metadata": {},
   "outputs": [
    {
     "name": "stdout",
     "output_type": "stream",
     "text": [
      "+-------+------------------+-------------------+\n",
      "|summary|            userId|             gender|\n",
      "+-------+------------------+-------------------+\n",
      "|  count|               225|                225|\n",
      "|   mean|65391.013333333336| 0.4622222222222222|\n",
      "| stddev|105396.47791907165|0.49968243883744773|\n",
      "|    min|                10|                  0|\n",
      "|    max|                99|                  1|\n",
      "+-------+------------------+-------------------+\n",
      "\n"
     ]
    }
   ],
   "source": [
    "# Gender\n",
    "feat_gender = df \\\n",
    "                .select(\"userId\", \"gender\") \\\n",
    "                .dropDuplicates() \\\n",
    "                .replace(['M', 'F'], ['0', '1'], 'gender') \\\n",
    "                .select('userId', col('gender').cast('int'))\n",
    "feat_gender.describe().show()"
   ]
  },
  {
   "cell_type": "markdown",
   "metadata": {},
   "source": [
    "### 9. number of sessions"
   ]
  },
  {
   "cell_type": "code",
   "execution_count": 43,
   "metadata": {},
   "outputs": [
    {
     "name": "stdout",
     "output_type": "stream",
     "text": [
      "+-------+------------------+------------------+\n",
      "|summary|            userId|      sessionCount|\n",
      "+-------+------------------+------------------+\n",
      "|  count|               225|               225|\n",
      "|   mean|65391.013333333336|14.115555555555556|\n",
      "| stddev|105396.47791907164|14.646884657111562|\n",
      "|    min|                10|                 1|\n",
      "|    max|                99|               107|\n",
      "+-------+------------------+------------------+\n",
      "\n"
     ]
    }
   ],
   "source": [
    "# number of sessions\n",
    "feat_number_sessions = df \\\n",
    "                        .select(\"userId\", \"sessionId\") \\\n",
    "                        .dropDuplicates() \\\n",
    "                        .groupby(\"userId\") \\\n",
    "                        .count() \\\n",
    "                        .withColumnRenamed(\"count\", \"sessionCount\")\n",
    "feat_number_sessions.describe().show()"
   ]
  },
  {
   "cell_type": "markdown",
   "metadata": {},
   "source": [
    "### 10. Label (churn)"
   ]
  },
  {
   "cell_type": "code",
   "execution_count": 44,
   "metadata": {},
   "outputs": [],
   "source": [
    "# window over which to apply the event\n",
    "windowval = Window.partitionBy('userId')"
   ]
  },
  {
   "cell_type": "code",
   "execution_count": 45,
   "metadata": {},
   "outputs": [
    {
     "name": "stdout",
     "output_type": "stream",
     "text": [
      "+------+----------+\n",
      "|userId|downgraded|\n",
      "+------+----------+\n",
      "|100010|         0|\n",
      "|200002|         0|\n",
      "|   125|         0|\n",
      "|   124|         0|\n",
      "|    51|         0|\n",
      "|     7|         0|\n",
      "|    15|         0|\n",
      "|    54|         1|\n",
      "|   155|         0|\n",
      "|100014|         0|\n",
      "+------+----------+\n",
      "only showing top 10 rows\n",
      "\n"
     ]
    }
   ],
   "source": [
    "# create downgrade but not used as a feature, could be interesting to include it in later studies\n",
    "downgrade_event_func = udf(lambda x: 1 if x == 'Submit Downgrade' else 0, IntegerType()) #coded as 0 or 1 instead of boolean True, False\n",
    "feat_downgrade = df \\\n",
    "                    .withColumn(\"downgraded_event\", downgrade_event_func(\"page\")) \\\n",
    "                    .withColumn(\"downgraded\", max('downgraded_event').over(windowval)) \\\n",
    "                    .dropDuplicates([\"userId\"]) \\\n",
    "                    .select(\"userId\",\"downgraded\")\n",
    "feat_downgrade.show(10)"
   ]
  },
  {
   "cell_type": "code",
   "execution_count": 46,
   "metadata": {},
   "outputs": [
    {
     "name": "stdout",
     "output_type": "stream",
     "text": [
      "+----------+-----+\n",
      "|downgraded|count|\n",
      "+----------+-----+\n",
      "|         1|   49|\n",
      "|         0|  176|\n",
      "+----------+-----+\n",
      "\n"
     ]
    }
   ],
   "source": [
    "feat_downgrade.groupby(\"downgraded\").count().show()"
   ]
  },
  {
   "cell_type": "code",
   "execution_count": 47,
   "metadata": {},
   "outputs": [
    {
     "name": "stdout",
     "output_type": "stream",
     "text": [
      "+------+-----+\n",
      "|userId|label|\n",
      "+------+-----+\n",
      "|100010|    0|\n",
      "|200002|    0|\n",
      "|   125|    1|\n",
      "|   124|    0|\n",
      "|    51|    1|\n",
      "|     7|    0|\n",
      "|    15|    0|\n",
      "|    54|    1|\n",
      "|   155|    0|\n",
      "|100014|    1|\n",
      "+------+-----+\n",
      "only showing top 10 rows\n",
      "\n"
     ]
    }
   ],
   "source": [
    "# create churn label \n",
    "churn_event_func = udf(lambda x: 1 if x == 'Cancellation Confirmation' else 0, IntegerType()) #coded as 0 or 1 instead of boolean True, False\n",
    "\n",
    "# label user who've ever churned\n",
    "feat_label = df \\\n",
    "                .withColumn('churn_event', churn_event_func('page')) \\\n",
    "                .withColumn('churn', max('churn_event').over(windowval)) \\\n",
    "                .dropDuplicates([\"userId\"]) \\\n",
    "                .select(\"userId\",\"churn\") \\\n",
    "                .withColumnRenamed(\"churn\", \"label\")\n",
    "\n",
    "\n",
    "feat_label.show(10)"
   ]
  },
  {
   "cell_type": "code",
   "execution_count": 48,
   "metadata": {},
   "outputs": [
    {
     "name": "stdout",
     "output_type": "stream",
     "text": [
      "+-----+-----+\n",
      "|label|count|\n",
      "+-----+-----+\n",
      "|    1|   52|\n",
      "|    0|  173|\n",
      "+-----+-----+\n",
      "\n"
     ]
    }
   ],
   "source": [
    "feat_label.groupby(\"label\").count().show()"
   ]
  },
  {
   "cell_type": "markdown",
   "metadata": {},
   "source": [
    "### Data for modelling"
   ]
  },
  {
   "cell_type": "code",
   "execution_count": 49,
   "metadata": {},
   "outputs": [
    {
     "name": "stdout",
     "output_type": "stream",
     "text": [
      "+------+------------------+-----------+------------+--------------+---------------+----------+------------------+------+------------+-----+\n",
      "|userId|          lifetime|total_songs|num_thumb_up|num_thumb_down|add_to_playlist|add_friend|  avg_songs_played|gender|sessionCount|label|\n",
      "+------+------------------+-----------+------------+--------------+---------------+----------+------------------+------+------------+-----+\n",
      "|100010|  55.6436574074074|        381|          17|             5|              7|         4|39.285714285714285|     1|           7|    0|\n",
      "|200002| 70.07462962962963|        474|          21|             6|              8|         4|              64.5|     0|           6|    0|\n",
      "|   125| 71.31688657407408|         11|        null|          null|           null|      null|               8.0|     0|           1|    1|\n",
      "|   124|131.55591435185184|       4825|         171|            41|            118|        74|145.67857142857142|     1|          29|    0|\n",
      "|    51|19.455844907407407|       2464|         100|            21|             52|        28|             211.1|     0|          10|    1|\n",
      "+------+------------------+-----------+------------+--------------+---------------+----------+------------------+------+------------+-----+\n",
      "only showing top 5 rows\n",
      "\n"
     ]
    }
   ],
   "source": [
    "# data for modelling\n",
    "data_withNA = feat_time_since_reg.join(feat_total_songs,'userID','outer') \\\n",
    "                .join(feat_thumbs_up,'userID','outer') \\\n",
    "                .join(feat_thumbs_down,'userID','outer') \\\n",
    "                .join(feat_songs_added,'userID','outer') \\\n",
    "                .join(feat_friends,'userID','outer') \\\n",
    "                .join(feat_number_songs_per_session,'userID','outer') \\\n",
    "                .join(feat_gender,'userID','outer') \\\n",
    "                .join(feat_number_sessions,'userID','outer') \\\n",
    "                .join(feat_label,'userID','outer') \\\n",
    "\n",
    "data_withNA.cache()\n",
    "data_withNA.show(5)"
   ]
  },
  {
   "cell_type": "markdown",
   "metadata": {},
   "source": [
    " As it can be seen it includes nulls, for this analysis we'll discard them."
   ]
  },
  {
   "cell_type": "code",
   "execution_count": 50,
   "metadata": {},
   "outputs": [
    {
     "name": "stdout",
     "output_type": "stream",
     "text": [
      "+-----+-----+\n",
      "|label|count|\n",
      "+-----+-----+\n",
      "|    1|   52|\n",
      "|    0|  173|\n",
      "+-----+-----+\n",
      "\n"
     ]
    }
   ],
   "source": [
    "data_withNA.groupby(\"label\").count().show()"
   ]
  },
  {
   "cell_type": "code",
   "execution_count": 51,
   "metadata": {},
   "outputs": [
    {
     "data": {
      "text/plain": [
       "DataFrame[userId: string, lifetime: double, total_songs: bigint, num_thumb_up: bigint, num_thumb_down: bigint, add_to_playlist: bigint, add_friend: bigint, avg_songs_played: double, gender: int, sessionCount: bigint, label: int]"
      ]
     },
     "execution_count": 51,
     "metadata": {},
     "output_type": "execute_result"
    }
   ],
   "source": [
    "data_clean = data_withNA.na.drop(subset=data_withNA.columns)\n",
    "data_clean.cache()"
   ]
  },
  {
   "cell_type": "code",
   "execution_count": 52,
   "metadata": {},
   "outputs": [
    {
     "name": "stdout",
     "output_type": "stream",
     "text": [
      "+-----+-----+\n",
      "|label|count|\n",
      "+-----+-----+\n",
      "|    1|   43|\n",
      "|    0|  149|\n",
      "+-----+-----+\n",
      "\n"
     ]
    }
   ],
   "source": [
    "data_clean.groupby(\"label\").count().show()"
   ]
  },
  {
   "cell_type": "markdown",
   "metadata": {},
   "source": [
    "## Saving Data"
   ]
  },
  {
   "cell_type": "code",
   "execution_count": 53,
   "metadata": {},
   "outputs": [],
   "source": [
    "data_withNA_file = \"data_withNA_after_feat_eng\""
   ]
  },
  {
   "cell_type": "code",
   "execution_count": 54,
   "metadata": {},
   "outputs": [],
   "source": [
    "data_withNA.write.mode('overwrite').save(data_withNA_file, format=\"csv\", header=True)"
   ]
  },
  {
   "cell_type": "code",
   "execution_count": 55,
   "metadata": {},
   "outputs": [
    {
     "data": {
      "text/plain": [
       "DataFrame[userId: string, lifetime: string, total_songs: string, num_thumb_up: string, num_thumb_down: string, add_to_playlist: string, add_friend: string, avg_songs_played: string, gender: string, sessionCount: string, label: string]"
      ]
     },
     "execution_count": 55,
     "metadata": {},
     "output_type": "execute_result"
    }
   ],
   "source": [
    "data_withNA = spark.read.csv(data_withNA_file, header=True)\n",
    "data_withNA.persist()"
   ]
  },
  {
   "cell_type": "code",
   "execution_count": 56,
   "metadata": {},
   "outputs": [
    {
     "name": "stdout",
     "output_type": "stream",
     "text": [
      "root\n",
      " |-- userId: string (nullable = true)\n",
      " |-- lifetime: string (nullable = true)\n",
      " |-- total_songs: string (nullable = true)\n",
      " |-- num_thumb_up: string (nullable = true)\n",
      " |-- num_thumb_down: string (nullable = true)\n",
      " |-- add_to_playlist: string (nullable = true)\n",
      " |-- add_friend: string (nullable = true)\n",
      " |-- avg_songs_played: string (nullable = true)\n",
      " |-- gender: string (nullable = true)\n",
      " |-- sessionCount: string (nullable = true)\n",
      " |-- label: string (nullable = true)\n",
      "\n"
     ]
    }
   ],
   "source": [
    "data_withNA.printSchema()"
   ]
  },
  {
   "cell_type": "code",
   "execution_count": 57,
   "metadata": {},
   "outputs": [],
   "source": [
    "data_clean_file = \"data_clean_after_feat_eng\""
   ]
  },
  {
   "cell_type": "code",
   "execution_count": 58,
   "metadata": {},
   "outputs": [],
   "source": [
    "data_clean.write.mode('overwrite').save(data_clean_file, format=\"csv\", header=True)"
   ]
  },
  {
   "cell_type": "code",
   "execution_count": 59,
   "metadata": {},
   "outputs": [
    {
     "data": {
      "text/plain": [
       "DataFrame[userId: string, lifetime: string, total_songs: string, num_thumb_up: string, num_thumb_down: string, add_to_playlist: string, add_friend: string, avg_songs_played: string, gender: string, sessionCount: string, label: string]"
      ]
     },
     "execution_count": 59,
     "metadata": {},
     "output_type": "execute_result"
    }
   ],
   "source": [
    "data_clean = spark.read.csv(data_clean_file, header=True)\n",
    "data_clean.persist()"
   ]
  },
  {
   "cell_type": "code",
   "execution_count": 60,
   "metadata": {},
   "outputs": [
    {
     "name": "stdout",
     "output_type": "stream",
     "text": [
      "root\n",
      " |-- userId: string (nullable = true)\n",
      " |-- lifetime: string (nullable = true)\n",
      " |-- total_songs: string (nullable = true)\n",
      " |-- num_thumb_up: string (nullable = true)\n",
      " |-- num_thumb_down: string (nullable = true)\n",
      " |-- add_to_playlist: string (nullable = true)\n",
      " |-- add_friend: string (nullable = true)\n",
      " |-- avg_songs_played: string (nullable = true)\n",
      " |-- gender: string (nullable = true)\n",
      " |-- sessionCount: string (nullable = true)\n",
      " |-- label: string (nullable = true)\n",
      "\n"
     ]
    }
   ],
   "source": [
    "data_clean.printSchema()"
   ]
  },
  {
   "cell_type": "markdown",
   "metadata": {},
   "source": [
    "# Modeling\n",
    "Split the full dataset into train, test, and validation sets. Test out several of the machine learning methods you learned. Evaluate the accuracy of the various models, tuning parameters as necessary. Determine your winning model based on test accuracy and report results on the validation set. Since the churned users are a fairly small subset, I suggest using F1 score as the metric to optimize."
   ]
  },
  {
   "cell_type": "markdown",
   "metadata": {},
   "source": [
    "### Read data_clean for modelling"
   ]
  },
  {
   "cell_type": "code",
   "execution_count": 61,
   "metadata": {},
   "outputs": [],
   "source": [
    "data_clean_file = \"data_clean_after_feat_eng\""
   ]
  },
  {
   "cell_type": "code",
   "execution_count": 62,
   "metadata": {},
   "outputs": [
    {
     "data": {
      "text/plain": [
       "DataFrame[userId: string, lifetime: string, total_songs: string, num_thumb_up: string, num_thumb_down: string, add_to_playlist: string, add_friend: string, avg_songs_played: string, gender: string, sessionCount: string, label: string]"
      ]
     },
     "execution_count": 62,
     "metadata": {},
     "output_type": "execute_result"
    }
   ],
   "source": [
    "data_clean = spark.read.csv(data_clean_file, header=True)\n",
    "data_clean.persist()"
   ]
  },
  {
   "cell_type": "code",
   "execution_count": 63,
   "metadata": {},
   "outputs": [
    {
     "name": "stdout",
     "output_type": "stream",
     "text": [
      "root\n",
      " |-- userId: string (nullable = true)\n",
      " |-- lifetime: string (nullable = true)\n",
      " |-- total_songs: string (nullable = true)\n",
      " |-- num_thumb_up: string (nullable = true)\n",
      " |-- num_thumb_down: string (nullable = true)\n",
      " |-- add_to_playlist: string (nullable = true)\n",
      " |-- add_friend: string (nullable = true)\n",
      " |-- avg_songs_played: string (nullable = true)\n",
      " |-- gender: string (nullable = true)\n",
      " |-- sessionCount: string (nullable = true)\n",
      " |-- label: string (nullable = true)\n",
      "\n"
     ]
    }
   ],
   "source": [
    "data_clean.printSchema()"
   ]
  },
  {
   "cell_type": "code",
   "execution_count": 64,
   "metadata": {},
   "outputs": [
    {
     "data": {
      "text/plain": [
       "['lifetime',\n",
       " 'total_songs',\n",
       " 'num_thumb_up',\n",
       " 'num_thumb_down',\n",
       " 'add_to_playlist',\n",
       " 'add_friend',\n",
       " 'avg_songs_played',\n",
       " 'gender',\n",
       " 'sessionCount',\n",
       " 'label']"
      ]
     },
     "execution_count": 64,
     "metadata": {},
     "output_type": "execute_result"
    }
   ],
   "source": [
    "feature_names = data_clean.drop(\"userId\", \"churn\").columns\n",
    "feature_names"
   ]
  },
  {
   "cell_type": "code",
   "execution_count": 65,
   "metadata": {},
   "outputs": [
    {
     "name": "stdout",
     "output_type": "stream",
     "text": [
      "+---------+-----------+------------+--------------+---------------+----------+----------------+------+------------+-----+\n",
      "| lifetime|total_songs|num_thumb_up|num_thumb_down|add_to_playlist|add_friend|avg_songs_played|gender|sessionCount|label|\n",
      "+---------+-----------+------------+--------------+---------------+----------+----------------+------+------------+-----+\n",
      "|62.095695|     3102.0|       135.0|          21.0|           72.0|      33.0|        88.86207|   0.0|        30.0|  0.0|\n",
      "|120.89992|     1863.0|        72.0|          20.0|           51.0|      26.0|            92.0|   0.0|        19.0|  0.0|\n",
      "|80.605125|     6880.0|       277.0|          75.0|          148.0|     143.0|       84.537315|   1.0|        71.0|  0.0|\n",
      "|13.099016|     1102.0|        40.0|          13.0|           30.0|      12.0|       132.42857|   1.0|         7.0|  1.0|\n",
      "| 95.33169|     2067.0|        87.0|          18.0|           53.0|      28.0|           108.0|   0.0|        17.0|  0.0|\n",
      "|28.427696|      552.0|        19.0|          13.0|           15.0|       9.0|          52.125|   0.0|         8.0|  1.0|\n",
      "|135.89708|      782.0|        28.0|           6.0|           21.0|      15.0|           164.0|   1.0|         4.0|  0.0|\n",
      "|110.77248|     2220.0|        76.0|          10.0|           61.0|      36.0|       157.83333|   1.0|        12.0|  0.0|\n",
      "|131.55591|     4825.0|       171.0|          41.0|          118.0|      74.0|       145.67857|   1.0|        29.0|  0.0|\n",
      "|19.455845|     2464.0|       100.0|          21.0|           52.0|      28.0|           211.1|   0.0|        10.0|  1.0|\n",
      "+---------+-----------+------------+--------------+---------------+----------+----------------+------+------------+-----+\n",
      "only showing top 10 rows\n",
      "\n"
     ]
    }
   ],
   "source": [
    "data_clean = data_clean.select(*(col(c).cast(\"float\").alias(c) for c in feature_names)) \\\n",
    "                .drop(\"userId\")\n",
    "\n",
    "data_clean.cache()\n",
    "data_clean.show(10)    "
   ]
  },
  {
   "cell_type": "code",
   "execution_count": 66,
   "metadata": {},
   "outputs": [
    {
     "name": "stdout",
     "output_type": "stream",
     "text": [
      "+---------+-----------+------------+--------------+---------------+----------+----------------+------+------------+-----+--------------------+\n",
      "| lifetime|total_songs|num_thumb_up|num_thumb_down|add_to_playlist|add_friend|avg_songs_played|gender|sessionCount|label|         NumFeatures|\n",
      "+---------+-----------+------------+--------------+---------------+----------+----------------+------+------------+-----+--------------------+\n",
      "|62.095695|     3102.0|       135.0|          21.0|           72.0|      33.0|        88.86207|   0.0|        30.0|  0.0|[62.0956954956054...|\n",
      "|120.89992|     1863.0|        72.0|          20.0|           51.0|      26.0|            92.0|   0.0|        19.0|  0.0|[120.899917602539...|\n",
      "|80.605125|     6880.0|       277.0|          75.0|          148.0|     143.0|       84.537315|   1.0|        71.0|  0.0|[80.6051254272461...|\n",
      "|13.099016|     1102.0|        40.0|          13.0|           30.0|      12.0|       132.42857|   1.0|         7.0|  1.0|[13.0990161895751...|\n",
      "| 95.33169|     2067.0|        87.0|          18.0|           53.0|      28.0|           108.0|   0.0|        17.0|  0.0|[95.3316879272461...|\n",
      "|28.427696|      552.0|        19.0|          13.0|           15.0|       9.0|          52.125|   0.0|         8.0|  1.0|[28.4276962280273...|\n",
      "|135.89708|      782.0|        28.0|           6.0|           21.0|      15.0|           164.0|   1.0|         4.0|  0.0|[135.897079467773...|\n",
      "|110.77248|     2220.0|        76.0|          10.0|           61.0|      36.0|       157.83333|   1.0|        12.0|  0.0|[110.772476196289...|\n",
      "|131.55591|     4825.0|       171.0|          41.0|          118.0|      74.0|       145.67857|   1.0|        29.0|  0.0|[131.555908203125...|\n",
      "|19.455845|     2464.0|       100.0|          21.0|           52.0|      28.0|           211.1|   0.0|        10.0|  1.0|[19.4558448791503...|\n",
      "+---------+-----------+------------+--------------+---------------+----------+----------------+------+------------+-----+--------------------+\n",
      "only showing top 10 rows\n",
      "\n"
     ]
    }
   ],
   "source": [
    "assembler = VectorAssembler(inputCols=data_clean.columns[:-1], outputCol=\"NumFeatures\")\n",
    "data_vector = assembler.transform(data_clean)\n",
    "data_vector.show(10, True)"
   ]
  },
  {
   "cell_type": "markdown",
   "metadata": {},
   "source": [
    "### Baseline Model"
   ]
  },
  {
   "cell_type": "markdown",
   "metadata": {},
   "source": [
    "The baseline model considers if all the userID's are predicted to churn and then if all are predicted to not churn."
   ]
  },
  {
   "cell_type": "code",
   "execution_count": 67,
   "metadata": {},
   "outputs": [],
   "source": [
    "# train test split\n",
    "train, rest = data_vector.select(\"NumFeatures\", \"label\").randomSplit([0.6, 0.4], seed=42)\n",
    "validation, test = rest.randomSplit([0.5, 0.5], seed=42)\n",
    "\n",
    "train = train.cache()\n",
    "validation = validation.cache()\n",
    "test = test.cache()"
   ]
  },
  {
   "cell_type": "code",
   "execution_count": 68,
   "metadata": {},
   "outputs": [
    {
     "data": {
      "text/plain": [
       "DataFrame[NumFeatures: vector, label: float, features: vector]"
      ]
     },
     "execution_count": 68,
     "metadata": {},
     "output_type": "execute_result"
    }
   ],
   "source": [
    "# standard scaler\n",
    "scaler = StandardScaler(inputCol=\"NumFeatures\", outputCol=\"features\", withStd=True, withMean=True)\n",
    "scalerModel = scaler.fit(train)\n",
    "train_scaled = scalerModel.transform(train)\n",
    "train_scaled.cache()"
   ]
  },
  {
   "cell_type": "code",
   "execution_count": 69,
   "metadata": {},
   "outputs": [
    {
     "data": {
      "text/plain": [
       "DataFrame[NumFeatures: vector, label: float, features: vector]"
      ]
     },
     "execution_count": 69,
     "metadata": {},
     "output_type": "execute_result"
    }
   ],
   "source": [
    "validation_scaled = scalerModel.transform(validation)\n",
    "validation_scaled.cache()"
   ]
  },
  {
   "cell_type": "code",
   "execution_count": 70,
   "metadata": {},
   "outputs": [
    {
     "data": {
      "text/plain": [
       "DataFrame[NumFeatures: vector, label: float, features: vector]"
      ]
     },
     "execution_count": 70,
     "metadata": {},
     "output_type": "execute_result"
    }
   ],
   "source": [
    "test_scaled = scalerModel.transform(test)\n",
    "test_scaled.cache()"
   ]
  },
  {
   "cell_type": "code",
   "execution_count": 71,
   "metadata": {},
   "outputs": [
    {
     "name": "stdout",
     "output_type": "stream",
     "text": [
      "+--------------------+-----+--------------------+\n",
      "|         NumFeatures|label|            features|\n",
      "+--------------------+-----+--------------------+\n",
      "|[28.4276962280273...|  1.0|[-1.4263282093373...|\n",
      "|[37.4382743835449...|  1.0|[-1.1760475224057...|\n",
      "|[40.3575134277343...|  1.0|[-1.0949618095150...|\n",
      "|[42.1323509216308...|  1.0|[-1.0456633583504...|\n",
      "|[43.0526161193847...|  1.0|[-1.0201017792955...|\n",
      "+--------------------+-----+--------------------+\n",
      "only showing top 5 rows\n",
      "\n",
      "+--------------------+-----+--------------------+\n",
      "|         NumFeatures|label|            features|\n",
      "+--------------------+-----+--------------------+\n",
      "|[44.3144340515136...|  1.0|[-0.9850531227737...|\n",
      "|[60.5883102416992...|  0.0|[-0.5330247577097...|\n",
      "|[60.9868049621582...|  1.0|[-0.5219560415126...|\n",
      "|[66.6266860961914...|  0.0|[-0.3653009079489...|\n",
      "|[68.9053573608398...|  0.0|[-0.3020078095967...|\n",
      "+--------------------+-----+--------------------+\n",
      "only showing top 5 rows\n",
      "\n",
      "+--------------------+-----+--------------------+\n",
      "|         NumFeatures|label|            features|\n",
      "+--------------------+-----+--------------------+\n",
      "|[13.0990161895751...|  1.0|[-1.8521025052330...|\n",
      "|[19.4558448791503...|  1.0|[-1.6755332081609...|\n",
      "|[21.4514350891113...|  0.0|[-1.6201030592889...|\n",
      "|[27.3651618957519...|  0.0|[-1.4558415011573...|\n",
      "|[58.5386924743652...|  0.0|[-0.5899555932123...|\n",
      "+--------------------+-----+--------------------+\n",
      "only showing top 5 rows\n",
      "\n"
     ]
    }
   ],
   "source": [
    "train_scaled.show(5)\n",
    "validation_scaled.show(5)\n",
    "test_scaled.show(5)"
   ]
  },
  {
   "cell_type": "code",
   "execution_count": 72,
   "metadata": {},
   "outputs": [
    {
     "name": "stdout",
     "output_type": "stream",
     "text": [
      "+--------------------+-----+--------------------+----------+\n",
      "|         NumFeatures|label|            features|prediction|\n",
      "+--------------------+-----+--------------------+----------+\n",
      "|[13.0990161895751...|  1.0|[-1.8521025052330...|       1.0|\n",
      "|[19.4558448791503...|  1.0|[-1.6755332081609...|       1.0|\n",
      "|[21.4514350891113...|  0.0|[-1.6201030592889...|       1.0|\n",
      "|[27.3651618957519...|  0.0|[-1.4558415011573...|       1.0|\n",
      "|[58.5386924743652...|  0.0|[-0.5899555932123...|       1.0|\n",
      "+--------------------+-----+--------------------+----------+\n",
      "only showing top 5 rows\n",
      "\n"
     ]
    }
   ],
   "source": [
    "baseline_test_1 = test_scaled.withColumn('prediction', lit(1.0))\n",
    "baseline_test_1.show(5)"
   ]
  },
  {
   "cell_type": "code",
   "execution_count": 73,
   "metadata": {},
   "outputs": [
    {
     "name": "stdout",
     "output_type": "stream",
     "text": [
      "Test set metrics:\n",
      "Accuracy: 0.235\n",
      "F-1 Score:0.090\n"
     ]
    }
   ],
   "source": [
    "evaluator = MulticlassClassificationEvaluator(predictionCol=\"prediction\")\n",
    "print('Test set metrics:')\n",
    "print('Accuracy: {:.3f}'.format(evaluator.evaluate(baseline_test_1, {evaluator.metricName: \"accuracy\"})))\n",
    "print('F-1 Score:{:.3f}'.format(evaluator.evaluate(baseline_test_1, {evaluator.metricName: \"f1\"})))"
   ]
  },
  {
   "cell_type": "code",
   "execution_count": 74,
   "metadata": {},
   "outputs": [
    {
     "name": "stdout",
     "output_type": "stream",
     "text": [
      "+--------------------+-----+--------------------+----------+\n",
      "|         NumFeatures|label|            features|prediction|\n",
      "+--------------------+-----+--------------------+----------+\n",
      "|[13.0990161895751...|  1.0|[-1.8521025052330...|       0.0|\n",
      "|[19.4558448791503...|  1.0|[-1.6755332081609...|       0.0|\n",
      "|[21.4514350891113...|  0.0|[-1.6201030592889...|       0.0|\n",
      "|[27.3651618957519...|  0.0|[-1.4558415011573...|       0.0|\n",
      "|[58.5386924743652...|  0.0|[-0.5899555932123...|       0.0|\n",
      "+--------------------+-----+--------------------+----------+\n",
      "only showing top 5 rows\n",
      "\n"
     ]
    }
   ],
   "source": [
    "baseline_test_0 = test_scaled.withColumn('prediction', lit(0.0))\n",
    "baseline_test_0.show(5)"
   ]
  },
  {
   "cell_type": "code",
   "execution_count": 75,
   "metadata": {},
   "outputs": [
    {
     "name": "stdout",
     "output_type": "stream",
     "text": [
      "Test set metrics:\n",
      "Accuracy: 0.765\n",
      "F-1 Score:0.663\n"
     ]
    }
   ],
   "source": [
    "evaluator = MulticlassClassificationEvaluator(predictionCol=\"prediction\")\n",
    "print('Test set metrics:')\n",
    "print('Accuracy: {:.3f}'.format(evaluator.evaluate(baseline_test_0, {evaluator.metricName: \"accuracy\"})))\n",
    "print('F-1 Score:{:.3f}'.format(evaluator.evaluate(baseline_test_0, {evaluator.metricName: \"f1\"})))"
   ]
  },
  {
   "cell_type": "markdown",
   "metadata": {},
   "source": [
    "### Models function "
   ]
  },
  {
   "cell_type": "code",
   "execution_count": 76,
   "metadata": {},
   "outputs": [],
   "source": [
    "def model_tuning(model_name, model, data_train, data_test, paramGrid = ParamGridBuilder().build(), numFolds = 3):\n",
    "\n",
    "    # set evaluator\n",
    "    f1_evaluator = MulticlassClassificationEvaluator(metricName='f1')\n",
    "    \n",
    "    # pipeline will take care of scaling according to the training folds\n",
    "    pipeline  = Pipeline(stages = [scaler, model])\n",
    "    \n",
    "    #cross val\n",
    "    crossval = CrossValidator(estimator=pipeline,\n",
    "                              evaluator=f1_evaluator, \n",
    "                              estimatorParamMaps=paramGrid,\n",
    "                              numFolds = numFolds)\n",
    "    # fitting the model\n",
    "    start   = time()\n",
    "    cvModel = crossval.fit(data_train)\n",
    "    end     = time()\n",
    "    print('The training process took {:.3f} seconds'.format(end - start))\n",
    "\n",
    "    # only the best model is used for printing its parameters\n",
    "    best_mod = cvModel.bestModel\n",
    "    param_dict = best_mod.stages[-1].extractParamMap()\n",
    "\n",
    "    sane_dict = {}\n",
    "    for k, v in param_dict.items():\n",
    "        sane_dict[k.name] = v\n",
    "    print(model_name + ' best parameters')\n",
    "    print(sane_dict)\n",
    "    \n",
    "    # best_model is saved\n",
    "    model_filename = model_name.replace(\" \", \"\")+'_model'\n",
    "    print ('Saving the model as:', model_filename)\n",
    "    try:\n",
    "        best_mod.write().overwrite().save(model_filename)\n",
    "    except Exception as e: \n",
    "        print(\"Model Saving failed\")\n",
    "        print(e)        \n",
    "    \n",
    "    # printing the results on the test data\n",
    "    results = cvModel.transform(data_test)\n",
    "    evaluator = MulticlassClassificationEvaluator(predictionCol=\"prediction\")\n",
    "    print(model_name+' Metrics:')\n",
    "    print('Accuracy: {:.3f}'.format(evaluator.evaluate(results, {evaluator.metricName: \"accuracy\"})))\n",
    "    print('F-1 Score:{:.3f}'.format(evaluator.evaluate(results, {evaluator.metricName: \"f1\"})))  \n",
    "    return best_mod"
   ]
  },
  {
   "cell_type": "code",
   "execution_count": 77,
   "metadata": {},
   "outputs": [],
   "source": [
    "# train/test split, the gridsearchCV inside the model_tuning function takes care of splitting train into train/val and scaling\n",
    "train, test = data_vector.select(\"NumFeatures\", \"label\").randomSplit([0.6, 0.4], seed=42)\n",
    "paramGrid = ParamGridBuilder().build()"
   ]
  },
  {
   "cell_type": "markdown",
   "metadata": {},
   "source": [
    "### Logistic Regression"
   ]
  },
  {
   "cell_type": "code",
   "execution_count": 78,
   "metadata": {},
   "outputs": [
    {
     "name": "stdout",
     "output_type": "stream",
     "text": [
      "The training process took 15.999 seconds\n",
      "Logistic Regression best parameters\n",
      "{'aggregationDepth': 2, 'elasticNetParam': 0.0, 'family': 'auto', 'featuresCol': 'features', 'fitIntercept': True, 'labelCol': 'label', 'maxIter': 100, 'predictionCol': 'prediction', 'probabilityCol': 'probability', 'rawPredictionCol': 'rawPrediction', 'regParam': 0.0, 'standardization': True, 'threshold': 0.5, 'tol': 1e-06}\n",
      "Saving the model as: LogisticRegression_model\n",
      "Logistic Regression Metrics:\n",
      "Accuracy: 0.705\n",
      "F-1 Score:0.678\n"
     ]
    }
   ],
   "source": [
    "lr       = LogisticRegression(maxIter = 100)\n",
    "lr_model = model_tuning('Logistic Regression', lr, train, test, paramGrid = paramGrid, numFolds = 3)"
   ]
  },
  {
   "cell_type": "markdown",
   "metadata": {},
   "source": [
    "### Gradient Boosted Trees"
   ]
  },
  {
   "cell_type": "code",
   "execution_count": 88,
   "metadata": {},
   "outputs": [
    {
     "name": "stdout",
     "output_type": "stream",
     "text": [
      "The training process took 24.956 seconds\n",
      "Gradient Boosted Trees best parameters\n",
      "{'cacheNodeIds': False, 'checkpointInterval': 10, 'featureSubsetStrategy': 'all', 'featuresCol': 'features', 'labelCol': 'label', 'lossType': 'logistic', 'maxBins': 32, 'maxDepth': 5, 'maxIter': 10, 'maxMemoryInMB': 256, 'minInfoGain': 0.0, 'minInstancesPerNode': 1, 'predictionCol': 'prediction', 'seed': 42, 'stepSize': 0.1, 'subsamplingRate': 1.0}\n",
      "Saving the model as: GradientBoostedTrees_model\n",
      "Gradient Boosted Trees Metrics:\n",
      "Accuracy: 0.731\n",
      "F-1 Score:0.714\n"
     ]
    }
   ],
   "source": [
    "gbt       = GBTClassifier(maxIter=10, seed=42)\n",
    "gbt_model = model_tuning('Gradient Boosted Trees', gbt, train, test,  paramGrid = paramGrid, numFolds = 3)"
   ]
  },
  {
   "cell_type": "markdown",
   "metadata": {},
   "source": [
    "### Random Forest"
   ]
  },
  {
   "cell_type": "code",
   "execution_count": 89,
   "metadata": {},
   "outputs": [
    {
     "name": "stdout",
     "output_type": "stream",
     "text": [
      "The training process took 5.515 seconds\n",
      "Random Forest best parameters\n",
      "{'cacheNodeIds': False, 'checkpointInterval': 10, 'featureSubsetStrategy': 'auto', 'featuresCol': 'features', 'impurity': 'gini', 'labelCol': 'label', 'maxBins': 32, 'maxDepth': 5, 'maxMemoryInMB': 256, 'minInfoGain': 0.0, 'minInstancesPerNode': 1, 'numTrees': 20, 'predictionCol': 'prediction', 'probabilityCol': 'probability', 'rawPredictionCol': 'rawPrediction', 'seed': 42, 'subsamplingRate': 1.0}\n",
      "Saving the model as: RandomForest_model\n",
      "Random Forest Metrics:\n",
      "Accuracy: 0.744\n",
      "F-1 Score:0.704\n"
     ]
    }
   ],
   "source": [
    "rfc       = RandomForestClassifier(seed=42)\n",
    "rfc_model = model_tuning('Random Forest', rfc, train, test, paramGrid = paramGrid, numFolds = 3)"
   ]
  },
  {
   "cell_type": "markdown",
   "metadata": {},
   "source": [
    "### Decision Tree Classifier"
   ]
  },
  {
   "cell_type": "code",
   "execution_count": 86,
   "metadata": {},
   "outputs": [
    {
     "name": "stdout",
     "output_type": "stream",
     "text": [
      "The training process took 5.249 seconds\n",
      "Decision Tree Classifier best parameters\n",
      "{'cacheNodeIds': False, 'checkpointInterval': 10, 'featuresCol': 'features', 'impurity': 'gini', 'labelCol': 'label', 'maxBins': 32, 'maxDepth': 5, 'maxMemoryInMB': 256, 'minInfoGain': 0.0, 'minInstancesPerNode': 1, 'predictionCol': 'prediction', 'probabilityCol': 'probability', 'rawPredictionCol': 'rawPrediction', 'seed': 42}\n",
      "Saving the model as: DecisionTreeClassifier_model\n",
      "Decision Tree Classifier Metrics:\n",
      "Accuracy: 0.769\n",
      "F-1 Score:0.734\n"
     ]
    }
   ],
   "source": [
    "dtc       = DecisionTreeClassifier(seed=42)\n",
    "dtc_model = model_tuning('Decision Tree Classifier', dtc, train, test, paramGrid = paramGrid, numFolds = 3)"
   ]
  },
  {
   "cell_type": "markdown",
   "metadata": {},
   "source": [
    "### Fine Tuning the best model"
   ]
  },
  {
   "cell_type": "code",
   "execution_count": 91,
   "metadata": {},
   "outputs": [
    {
     "name": "stdout",
     "output_type": "stream",
     "text": [
      "The training process took 41.928 seconds\n",
      "Decision Tree Classifier best parameters\n",
      "{'cacheNodeIds': False, 'checkpointInterval': 10, 'featuresCol': 'features', 'impurity': 'gini', 'labelCol': 'label', 'maxBins': 16, 'maxDepth': 2, 'maxMemoryInMB': 256, 'minInfoGain': 0.0, 'minInstancesPerNode': 1, 'predictionCol': 'prediction', 'probabilityCol': 'probability', 'rawPredictionCol': 'rawPrediction', 'seed': 42}\n",
      "Saving the model as: DecisionTreeClassifier_model\n",
      "Decision Tree Classifier Metrics:\n",
      "Accuracy: 0.718\n",
      "F-1 Score:0.675\n"
     ]
    }
   ],
   "source": [
    "dtc             = DecisionTreeClassifier(seed=42)\n",
    "paramGrid_dtc   = ParamGridBuilder()\\\n",
    "                    .addGrid(dtc.maxDepth, [2, 8, 12]) \\\n",
    "                    .addGrid(dtc.maxBins, [4, 8, 12, 16]) \\\n",
    "                    .build()\n",
    "dtc_model_tuned = model_tuning('Decision Tree Classifier', dtc, train, test, paramGrid = paramGrid_dtc, numFolds = 3)"
   ]
  },
  {
   "cell_type": "code",
   "execution_count": 92,
   "metadata": {},
   "outputs": [
    {
     "name": "stdout",
     "output_type": "stream",
     "text": [
      "The training process took 4.417 seconds\n",
      "Decision Tree Classifier best parameters\n",
      "{'cacheNodeIds': False, 'checkpointInterval': 10, 'featuresCol': 'features', 'impurity': 'gini', 'labelCol': 'label', 'maxBins': 32, 'maxDepth': 5, 'maxMemoryInMB': 256, 'minInfoGain': 0.0, 'minInstancesPerNode': 1, 'predictionCol': 'prediction', 'probabilityCol': 'probability', 'rawPredictionCol': 'rawPrediction', 'seed': 42}\n",
      "Saving the model as: DecisionTreeClassifier_model\n",
      "Decision Tree Classifier Metrics:\n",
      "Accuracy: 0.769\n",
      "F-1 Score:0.734\n"
     ]
    }
   ],
   "source": [
    "dtc           = DecisionTreeClassifier(seed=42)\n",
    "paramGrid_dtc = ParamGridBuilder()\\\n",
    "                    .build()\n",
    "dtc_model     = model_tuning('Decision Tree Classifier', dtc, train, test, paramGrid = paramGrid_dtc, numFolds = 3)"
   ]
  },
  {
   "cell_type": "markdown",
   "metadata": {},
   "source": [
    "As we can see, the default decision tree performs better than the attempt to tune it, therefore, I use the best model, and simpler, to quantify feature importance."
   ]
  },
  {
   "cell_type": "code",
   "execution_count": 101,
   "metadata": {},
   "outputs": [
    {
     "data": {
      "image/png": "[encoded data removed]",
      "text/plain": [
       "<matplotlib.figure.Figure at 0x7fd3682bae80>"
      ]
     },
     "metadata": {
      "needs_background": "light"
     },
     "output_type": "display_data"
    }
   ],
   "source": [
    "feat_imp = dtc_model.stages[-1].featureImportances\n",
    "cols = data_clean.columns[:-1]\n",
    "y_pos = range(len(cols))\n",
    " \n",
    "plt.barh(y_pos, feat_imp, align='center')\n",
    "plt.yticks(y_pos, cols)\n",
    "plt.xlabel('Importance Score')\n",
    "plt.title('Decision Tree Classifier feature importance');"
   ]
  },
  {
   "cell_type": "markdown",
   "metadata": {},
   "source": [
    "From here we can see that the 3 most important features are lifetime in the service, number of friends added, total songs."
   ]
  },
  {
   "cell_type": "markdown",
   "metadata": {},
   "source": [
    "# Conclusion"
   ]
  },
  {
   "cell_type": "markdown",
   "metadata": {},
   "source": [
    "### Summary & Justification\n",
    "\n",
    "Most of the trained models achieved moderate success in predicting the churning behaviour, beating the baseline model.\n",
    "\n",
    "Given the features processed it was found that the best model to further test was the Decision Tree Classifier with an Accuracy: 0.769 and an F-1 Score: 0.734. Using F-1 helped to avoid the pitfall of using accuracy to quantify an imbalanced set.\n",
    "\n",
    "Further tuning lead to overfitting in the training set, which lead to Accuracy: 0.718  and F-1 Score: 0.675. Most likely due the small size of the data.\n",
    "\n",
    "In terms of the feature importance, the 3 most relevant are, in order, 'lifetime', 'add_friend' and 'total_songs'. Though this might change if the full dataset is used"
   ]
  },
  {
   "cell_type": "markdown",
   "metadata": {},
   "source": [
    "### Reflection"
   ]
  },
  {
   "cell_type": "markdown",
   "metadata": {},
   "source": [
    "This project was interesting as it allowed me to explore Spark´s funcionality and additionally learn about customer´s behaviour. With this in mind, feature construction was the most challenging aspect of building the predictive model as they are most useful when they produce insights about customer´s behaviour, thus helping the model to capture important aspects when being trained."
   ]
  },
  {
   "cell_type": "markdown",
   "metadata": {},
   "source": [
    "### Improvement"
   ]
  },
  {
   "cell_type": "markdown",
   "metadata": {},
   "source": [
    "There are several aspects of this analysis that could be expanded and that could change dramatically the outcome. \n",
    "\n",
    "1. Full dataset: the sample used is a less than 1% of the total dataset (12gb) thus the conclusions showed here are of limited validity\n",
    "2. numFolds: related to 1. in this case the number of folds was set to 3, but with larger datasets this could be increased to 10\n",
    "3. Features: more categorical features could be used\n",
    "4. Outlier detection: no efforts were made to detect outliers, which would be important to study in the complete dataset\n",
    "5. Imbalance handling: techniques such as  over/under-sampling or different train/test rations could be useful to manage this point\n",
    "6. Missing data imputation: rows/accounts with missing values were deleted, but such values could be inputed in a later study"
   ]
  },
  {
   "cell_type": "markdown",
   "metadata": {},
   "source": [
    "# Final Steps\n",
    "Clean up your code, adding comments and renaming variables to make the code easier to read and maintain. Refer to the Spark Project Overview page and Data Scientist Capstone Project Rubric to make sure you are including all components of the capstone project and meet all expectations. Remember, this includes thorough documentation in a README file in a Github repository, as well as a web app or blog post."
   ]
  }
 ],
 "metadata": {
  "kernelspec": {
   "display_name": "Python 3",
   "language": "python",
   "name": "python3"
  },
  "language_info": {
   "codemirror_mode": {
    "name": "ipython",
    "version": 3
   },
   "file_extension": ".py",
   "mimetype": "text/x-python",
   "name": "python",
   "nbconvert_exporter": "python",
   "pygments_lexer": "ipython3",
   "version": "3.6.3"
  }
 },
 "nbformat": 4,
 "nbformat_minor": 2
}
